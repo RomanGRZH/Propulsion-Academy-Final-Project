{
 "cells": [
  {
   "cell_type": "markdown",
   "metadata": {
    "id": "Pf2E4Vfk7a7B"
   },
   "source": [
    "\n",
    "# Data Augmentation\n",
    "\n"
   ]
  },
  {
   "cell_type": "markdown",
   "metadata": {
    "id": "UtyICNTq7grY"
   },
   "source": [
    "Source and ideas for other augmentation methods:\n",
    "\n",
    "- https://www.kaggle.com/corochann/bengali-albumentations-data-augmentation-tutorial\n",
    "\n",
    "- https://albumentations.readthedocs.io/en/latest/\n",
    "\n",
    "- https://albumentations-demo.herokuapp.com"
   ]
  },
  {
   "cell_type": "code",
   "execution_count": 1,
   "metadata": {
    "id": "lQh77JaZBcbG"
   },
   "outputs": [],
   "source": [
    "import os\n",
    "import glob\n",
    "import cv2\n",
    "from tqdm import tqdm\n",
    "from glob import glob\n",
    "from sklearn.model_selection import train_test_split\n",
    "from albumentations import CenterCrop, RandomRotate90, GridDistortion, HorizontalFlip, VerticalFlip, ShiftScaleRotate, RandomBrightnessContrast, \n",
    "Crop, Rotate, ElasticTransform, Resize"
   ]
  },
  {
   "cell_type": "markdown",
   "metadata": {},
   "source": [
    "Set the Path to the directory, where the images and masks are saved."
   ]
  },
  {
   "cell_type": "code",
   "execution_count": 2,
   "metadata": {},
   "outputs": [],
   "source": [
    "#define paths\n",
    "dir = os.getcwd()\n",
    "parent_dir = os.path.dirname(dir)\n",
    "\n",
    "PATH = parent_dir + '/data/fat_muscle'                              \n",
    "\n",
    "import sys\n",
    "sys.path.append(parent_dir)"
   ]
  },
  {
   "cell_type": "markdown",
   "metadata": {
    "id": "KctYg0uw8KzO"
   },
   "source": [
    "The following code delets all images which are currently in the folder where we want to save our augmented images. Before creating new augmented images, run these lines. "
   ]
  },
  {
   "cell_type": "markdown",
   "metadata": {
    "id": "nlSo5gvPRgar"
   },
   "source": [
    "### Delete Images"
   ]
  },
  {
   "cell_type": "code",
   "execution_count": 3,
   "metadata": {},
   "outputs": [],
   "source": [
    "files = glob(PATH + '/augmented_data/images/*')\n",
    "for f in files:\n",
    "   os.remove(f)"
   ]
  },
  {
   "cell_type": "markdown",
   "metadata": {
    "id": "uWHS9mxfRj4N"
   },
   "source": [
    "### Delete Masks"
   ]
  },
  {
   "cell_type": "code",
   "execution_count": 4,
   "metadata": {},
   "outputs": [],
   "source": [
    "files = glob(PATH + '/augmented_data/masks/*')\n",
    "for f in files:\n",
    "   os.remove(f)"
   ]
  },
  {
   "cell_type": "code",
   "execution_count": 5,
   "metadata": {
    "id": "HmHkVECoZNfh"
   },
   "outputs": [],
   "source": [
    "def load_data(path, split=0.1):\n",
    "    images = sorted(glob(os.path.join(path, \"images/*\"))) #path to ultrasound images\n",
    "    masks = sorted(glob(os.path.join(path, \"masks/*\"))) #path to masks\n",
    "\n",
    "    total_size = len(images)\n",
    "    valid_size = int(split * total_size)\n",
    "    test_size = int(split * total_size)\n",
    "\n",
    "    train_x, valid_x = train_test_split(images, test_size=valid_size, random_state=42)\n",
    "    train_y, valid_y = train_test_split(masks, test_size=valid_size, random_state=42)\n",
    "\n",
    "    train_x, test_x = train_test_split(train_x, test_size=test_size, random_state=42)\n",
    "    train_y, test_y = train_test_split(train_y, test_size=test_size, random_state=42)\n",
    "\n",
    "    return (train_x, train_y), (valid_x, valid_y), (test_x, test_y)"
   ]
  },
  {
   "cell_type": "markdown",
   "metadata": {
    "id": "WtWToG_E8W-4"
   },
   "source": [
    "The following code creates new folders, where we save the pictures. If folders already exist, do not run the code"
   ]
  },
  {
   "cell_type": "code",
   "execution_count": 12,
   "metadata": {
    "id": "nDLZMy4sJnd9"
   },
   "outputs": [],
   "source": [
    "#def create_dir(path):\n",
    "#    if not os.path.exists(path):\n",
    "#        os.makedirs(path)"
   ]
  },
  {
   "cell_type": "code",
   "execution_count": 13,
   "metadata": {
    "id": "0S8YNe1jScGj"
   },
   "outputs": [],
   "source": [
    "#create_dir('/gdrive/My Drive/Caressoma/Data/fat_muscle/augmented_data/test_images') # folder for images\n",
    "#create_dir('/gdrive/My Drive/Caressoma/Data/fat_muscle/augmented_data/test_masks') # folder for masks"
   ]
  },
  {
   "cell_type": "markdown",
   "metadata": {
    "id": "RSVu6h9l8p1C"
   },
   "source": [
    "The following function includes all the data augmentation techniques we apply the images. "
   ]
  },
  {
   "cell_type": "code",
   "execution_count": null,
   "metadata": {},
   "outputs": [],
   "source": [
    "def augment_data_composite(images, masks, save_path, augment=True, nr_of_aug_images= 6):\n",
    "    ''' applies multiple transformations on an a single image and returns a composite image of those'''\n",
    "\n",
    "    for x, y in tqdm(zip(images, masks), total=len(images)):\n",
    "        name = x.split(\"/\")[-1].split(\".\")\n",
    "\n",
    "        \"\"\" Extracting the name and extension of the image and the mask. \"\"\"\n",
    "        image_name = name[0]\n",
    "        image_extn = name[1]\n",
    "\n",
    "        name = y.split(\"/\")[-1].split(\".\")\n",
    "        mask_name = name[0]\n",
    "        mask_extn = name[1]\n",
    "\n",
    "        \"\"\" Reading image and mask. \"\"\"\n",
    "        x = cv2.imread(x, cv2.IMREAD_COLOR)\n",
    "        y = cv2.imread(y, cv2.IMREAD_COLOR)\n",
    "        ORIG_WIDTH = x.shape[1]\n",
    "        ORIG_HEIGHT = x.shape[0]\n",
    "        save_images = [x]\n",
    "        save_masks = [y]\n",
    "\n",
    "        \"\"\" Augmentation \"\"\"\n",
    "        if augment == True:   \n",
    "            for i in range(nr_of_aug_images):\n",
    "\n",
    "                    aug = Rotate(limit=10, p=0.5, border_mode = cv2.BORDER_REFLECT_101)\n",
    "                    augmented = aug(image=x, mask=y)\n",
    "                    x_aug = augmented['image']\n",
    "                    y_aug = augmented['mask']\n",
    "                    \n",
    "                    aug = HorizontalFlip(p=0.5)\n",
    "                    augmented = aug(image=x_aug, mask=y_aug)\n",
    "                    x_aug = augmented['image']\n",
    "                    y_aug = augmented['mask']\n",
    "                    \n",
    "#                     # Custom Stretching Transformation: Stretch in y direction by cropping and subsequent resizing\n",
    "#                     if int.from_bytes(os.urandom(8), byteorder=\"big\") / ((1 << 64) - 1) > 0.5:          #random number generator. In order to apply\n",
    "#                                                                                                         #this function only in 50% of cases\n",
    "#                         aug = Crop(x_min=0, y_min=round(ORIG_HEIGHT/13), x_max=ORIG_WIDTH, y_max=round(ORIG_HEIGHT/3), p=1)\n",
    "#                         augmented = aug(image=x_aug, mask=y_aug)\n",
    "#                         x_aug = augmented['image']\n",
    "#                         y_aug = augmented['mask']    \n",
    "#                         aug = Resize(height=ORIG_HEIGHT, width=ORIG_WIDTH, p=1)\n",
    "#                         augmented = aug(image=x_aug, mask=y_aug)\n",
    "#                         x_aug = augmented['image']\n",
    "#                         y_aug = augmented['mask'] \n",
    "                        \n",
    "#                     aug = GridDistortion(num_steps=2, distort_limit=0.2, border_mode=cv2.BORDER_REFLECT_101, value=None, mask_value=None, p=0.25)\n",
    "#                     augmented = aug(image=x_aug, mask=y_aug)\n",
    "#                     x_aug = augmented['image']\n",
    "#                     y_aug = augmented['mask']\n",
    "                        \n",
    "#                     aug = GridDistortion(num_steps=5, distort_limit=0.2, border_mode=cv2.BORDER_REFLECT_101, value=None, mask_value=None, p=0.25)\n",
    "#                     augmented = aug(image=x_aug, mask=y_aug)\n",
    "#                     x_aug = augmented['image']\n",
    "#                     y_aug = augmented['mask']\n",
    "\n",
    "#                     aug = ShiftScaleRotate(border_mode=cv2.BORDER_CONSTANT, value=0, mask_value=0, shift_limit_x= 0, shift_limit_y= [-0.1, 0.4],\n",
    "#                                            scale_limit=0,rotate_limit=0, p=0.25)\n",
    "#                     augmented = aug(image=x_aug, mask=y_aug)\n",
    "#                     x_aug = augmented['image']\n",
    "#                     y_aug = augmented['mask']\n",
    "                        \n",
    "#                     aug = ElasticTransform(alpha=1, sigma=50, alpha_affine=50, border_mode=cv2.BORDER_REFLECT_101, value=None, mask_value=None,  p=1) \n",
    "#                     augmented = aug(image=x, mask=y)\n",
    "#                     x_aug = augmented['image']\n",
    "#                     y_aug = augmented['mask']\n",
    "\n",
    "                    #Brightness and contrast transformation NOT applied to mask\n",
    "                    aug = RandomBrightnessContrast(brightness_limit=0.2, contrast_limit=0.1, p=0.5)\n",
    "                    augmented = aug(image=x_aug)\n",
    "                    x_aug = augmented['image']   \n",
    "            \n",
    "            \n",
    "                    save_images.append(x_aug)\n",
    "                    save_masks.append(y_aug)\n",
    "\n",
    "        \"\"\" Saving the image and mask. \"\"\"\n",
    "        idx = 0\n",
    "        for i, m in zip(save_images, save_masks):\n",
    "\n",
    "\n",
    "            if len(images) == 1:\n",
    "                tmp_img_name = f\"{image_name}.{image_extn}\"\n",
    "                tmp_mask_name = f\"{mask_name}.{mask_extn}\"\n",
    "\n",
    "            else:\n",
    "                tmp_img_name = f\"{image_name}_{idx}.{image_extn}\"\n",
    "                tmp_mask_name = f\"{mask_name}_{idx}.{mask_extn}\"\n",
    "\n",
    "            image_path = os.path.join(save_path, \"images\", tmp_img_name)\n",
    "            mask_path = os.path.join(save_path, \"masks\", tmp_mask_name)\n",
    "\n",
    "            cv2.imwrite(image_path, i)\n",
    "            cv2.imwrite(mask_path, m)\n",
    "\n",
    "            idx += 1\n"
   ]
  },
  {
   "cell_type": "code",
   "execution_count": 8,
   "metadata": {
    "id": "u7IxMmRPIcDk"
   },
   "outputs": [],
   "source": [
    "def augment_data(images, masks, save_path, augment=True):\n",
    "    H = 256\n",
    "    W = 256\n",
    "\n",
    "    for x, y in tqdm(zip(images, masks), total=len(images)):\n",
    "        name = x.split(\"/\")[-1].split(\".\")\n",
    "\n",
    "        \"\"\" Extracting the name and extension of the image and the mask. \"\"\"\n",
    "        image_name = name[0]\n",
    "        image_extn = name[1]\n",
    "\n",
    "        name = y.split(\"/\")[-1].split(\".\")\n",
    "        mask_name = name[0]\n",
    "        mask_extn = name[1]\n",
    "\n",
    "        \"\"\" Reading image and mask. \"\"\"\n",
    "        x = cv2.imread(x, cv2.IMREAD_COLOR)\n",
    "        y = cv2.imread(y, cv2.IMREAD_COLOR)\n",
    "\n",
    "        \"\"\" Augmentation \"\"\"\n",
    "        if augment == True:     \n",
    "\n",
    "            aug = RandomRotate90(p=1.0)  # p= probability, that method is applied to image 1 = 100%\n",
    "            augmented = aug(image=x, mask=y)\n",
    "            x1 = augmented[\"image\"]\n",
    "            y1 = augmented[\"mask\"]\n",
    "\n",
    "            aug = Rotate(limit=45, p=1.0)\n",
    "            augmented = aug(image=x, mask=y)\n",
    "            x2 = augmented['image']\n",
    "            y2 = augmented['mask']\n",
    "\n",
    "            aug = GridDistortion(num_steps=7, distort_limit=0.5, p=1.0)\n",
    "            augmented = aug(image=x, mask=y)\n",
    "            x3 = augmented['image']\n",
    "            y3 = augmented['mask']\n",
    "\n",
    "            aug = ShiftScaleRotate(shift_limit=0.0625, scale_limit=0.1,rotate_limit=45, p=1.0)\n",
    "            augmented = aug(image=x, mask=y)\n",
    "            x4 = augmented['image']\n",
    "            y4 = augmented['mask']\n",
    "\n",
    "            aug = RandomBrightnessContrast(brightness_limit=(-0.5, 1.5), contrast_limit=0.2, p=1.0)\n",
    "            augmented = aug(image=x, mask=y)\n",
    "            x5 = augmented['image']\n",
    "            y5 = augmented['mask']\n",
    "            \n",
    "            aug = Crop(p=1.0, x_min=0, y_min=0, x_max=529, y_max=259)\n",
    "            augmented = aug(image=x, mask=y)\n",
    "            x6 = augmented['image']\n",
    "            y6 = augmented['mask']\n",
    "\n",
    "            save_images = [x, x1, x2, x3, x4, x5, x6]\n",
    "            save_masks =  [y, y1, y2, y3, y4, y5, y6]\n",
    "\n",
    "        else:\n",
    "            save_images = [x]\n",
    "            save_masks = [y]\n",
    "\n",
    "        \"\"\" Saving the image and mask. \"\"\"\n",
    "        idx = 0\n",
    "        for i, m in zip(save_images, save_masks):\n",
    "            i = cv2.resize(i, (W, H))\n",
    "            m = cv2.resize(m, (W, H))\n",
    "\n",
    "            if len(images) == 1:\n",
    "                tmp_img_name = f\"{image_name}.{image_extn}\"\n",
    "                tmp_mask_name = f\"{mask_name}.{mask_extn}\"\n",
    "\n",
    "            else:\n",
    "                tmp_img_name = f\"{image_name}_{idx}.{image_extn}\"\n",
    "                tmp_mask_name = f\"{mask_name}_{idx}.{mask_extn}\"\n",
    "\n",
    "            image_path = os.path.join(save_path, \"images\", tmp_img_name)\n",
    "            mask_path = os.path.join(save_path, \"masks\", tmp_mask_name)\n",
    "\n",
    "            cv2.imwrite(image_path, i)\n",
    "            cv2.imwrite(mask_path, m)\n",
    "\n",
    "            idx += 1"
   ]
  },
  {
   "cell_type": "code",
   "execution_count": null,
   "metadata": {},
   "outputs": [],
   "source": []
  },
  {
   "cell_type": "markdown",
   "metadata": {
    "id": "Cgq8ogbC7ZiB"
   },
   "source": [
    "We can now apply the function to our data. *IMPORTANT* Just apply on train data!"
   ]
  },
  {
   "cell_type": "code",
   "execution_count": 9,
   "metadata": {
    "colab": {
     "base_uri": "https://localhost:8080/"
    },
    "id": "1hmOxTSqJOv5",
    "outputId": "33f1f726-1584-4118-c5ba-7a2b85404117"
   },
   "outputs": [
    {
     "name": "stdout",
     "output_type": "stream",
     "text": [
      "Train Images: 14 - Train Masks: 14\n",
      "Valid Images: 1 - Valid Masks: 1\n",
      "Test Images: 1 - Test Masks: 1\n"
     ]
    }
   ],
   "source": [
    "# we load data \n",
    "(train_x, train_y), (valid_x, valid_y), (test_x, test_y) = load_data(PATH)\n",
    "print(f\"Train Images: {len(train_x)} - Train Masks: {len(train_y)}\")\n",
    "print(f\"Valid Images: {len(valid_x)} - Valid Masks: {len(valid_y)}\")\n",
    "print(f\"Test Images: {len(test_x)} - Test Masks: {len(test_y)}\")"
   ]
  },
  {
   "cell_type": "code",
   "execution_count": 11,
   "metadata": {
    "colab": {
     "base_uri": "https://localhost:8080/"
    },
    "id": "VfCAPzNQJzkn",
    "outputId": "2ecf1009-3d58-4ed5-d8f0-e13108d01ca5"
   },
   "outputs": [
    {
     "name": "stderr",
     "output_type": "stream",
     "text": [
      "100%|██████████| 14/14 [00:01<00:00, 10.79it/s]\n"
     ]
    }
   ],
   "source": [
    "# augment data -> just use train_x and train_y\n",
    "augment_data(train_x, train_y, PATH + '/augmented_data/', augment=True)"
   ]
  }
 ],
 "metadata": {
  "accelerator": "GPU",
  "colab": {
   "collapsed_sections": [],
   "name": "Data Augmentation.ipynb",
   "provenance": []
  },
  "kernelspec": {
   "display_name": "propulsion",
   "language": "python",
   "name": "propulsion"
  },
  "language_info": {
   "codemirror_mode": {
    "name": "ipython",
    "version": 3
   },
   "file_extension": ".py",
   "mimetype": "text/x-python",
   "name": "python",
   "nbconvert_exporter": "python",
   "pygments_lexer": "ipython3",
   "version": "3.8.3"
  }
 },
 "nbformat": 4,
 "nbformat_minor": 4
}
